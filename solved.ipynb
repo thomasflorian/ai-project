{
 "cells": [
  {
   "cell_type": "code",
   "execution_count": 77,
   "id": "ee339ef0-328f-4b42-8934-c733aa57b886",
   "metadata": {},
   "outputs": [],
   "source": [
    "import pandas as pd\n",
    "import numpy as np"
   ]
  },
  {
   "cell_type": "code",
   "execution_count": 121,
   "id": "d4215e81-b33e-4966-a866-00fd5f9578b2",
   "metadata": {},
   "outputs": [],
   "source": [
    "data = pd.read_csv(\"dataset.csv\", header=None)"
   ]
  },
  {
   "cell_type": "code",
   "execution_count": 122,
   "id": "183f0821-dc67-4728-b1cd-fc3745277ce0",
   "metadata": {},
   "outputs": [],
   "source": [
    "move_map = {getKey(index):data.iloc[0].values[-1] for index in data.index}"
   ]
  },
  {
   "cell_type": "code",
   "execution_count": 133,
   "id": "7128364a-da5f-478b-b29c-1ab20bf534d7",
   "metadata": {},
   "outputs": [],
   "source": [
    "def getKey(item):\n",
    "    if type(item) == int:\n",
    "        return \"\".join(list(data.iloc[item].values[:-1]))\n",
    "    elif type(item) == np.ndarray:\n",
    "        return \"\".join(list(reversed(item.T.flatten())))\n",
    "    \n",
    "def getBoard(key):\n",
    "    return np.array([i for i in reversed(key)], dtype=\"object\").reshape(7,6).T\n",
    "\n",
    "def getMoves(key, piece):\n",
    "    moves = []\n",
    "    board = getBoard(key)\n",
    "    for c in range(7):\n",
    "        column = list(reversed(board[:,c]))\n",
    "        if 'b' in column:\n",
    "            r = 5 - column.index('b')\n",
    "            new_board = board.copy()\n",
    "            new_board[r,c] = piece\n",
    "            moves.append(getKey(new_board))\n",
    "    return moves"
   ]
  },
  {
   "cell_type": "code",
   "execution_count": null,
   "id": "75ccca7b-40b3-4d6a-9897-5ddf9a96f789",
   "metadata": {},
   "outputs": [],
   "source": []
  }
 ],
 "metadata": {
  "kernelspec": {
   "display_name": "Python 3 (ipykernel)",
   "language": "python",
   "name": "python3"
  },
  "language_info": {
   "codemirror_mode": {
    "name": "ipython",
    "version": 3
   },
   "file_extension": ".py",
   "mimetype": "text/x-python",
   "name": "python",
   "nbconvert_exporter": "python",
   "pygments_lexer": "ipython3",
   "version": "3.9.12"
  }
 },
 "nbformat": 4,
 "nbformat_minor": 5
}
